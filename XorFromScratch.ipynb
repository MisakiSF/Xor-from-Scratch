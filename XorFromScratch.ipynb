{
  "nbformat": 4,
  "nbformat_minor": 0,
  "metadata": {
    "colab": {
      "name": "XorFromScratch",
      "provenance": [],
      "authorship_tag": "ABX9TyOgZrA2wSjGvjUw5EprkCu2",
      "include_colab_link": true
    },
    "kernelspec": {
      "name": "python3",
      "display_name": "Python 3"
    }
  },
  "cells": [
    {
      "cell_type": "markdown",
      "metadata": {
        "id": "view-in-github",
        "colab_type": "text"
      },
      "source": [
        "<a href=\"https://colab.research.google.com/github/MisakiSF/Xor-from-Scratch/blob/main/XorFromScratch.ipynb\" target=\"_parent\"><img src=\"https://colab.research.google.com/assets/colab-badge.svg\" alt=\"Open In Colab\"/></a>"
      ]
    },
    {
      "cell_type": "markdown",
      "metadata": {
        "id": "LUuKbeYxM8rv"
      },
      "source": [
        "Devoir 3 : Multi layer Network XOR from scratch \r\n",
        "Realised by : EL MOUDNI SAFAE\r\n"
      ]
    },
    {
      "cell_type": "code",
      "metadata": {
        "id": "Uj5aEHdUM7Wh"
      },
      "source": [
        "#importing liabrairies that we need\r\n",
        "import numpy as np\r\n",
        "import matplotlib.pyplot as plt\r\n",
        "from random import randint\r\n",
        "from mlxtend.plotting import plot_decision_regions"
      ],
      "execution_count": null,
      "outputs": []
    },
    {
      "cell_type": "markdown",
      "metadata": {
        "id": "F13TrXEWNZGW"
      },
      "source": [
        "**The Activation function that we need**"
      ]
    },
    {
      "cell_type": "code",
      "metadata": {
        "id": "SQCzCwzlNpfU"
      },
      "source": [
        "\r\n",
        "def sigmoid(x):\r\n",
        "  return 1/(1+np.exp(-x))\r\n",
        "\r\n",
        "def sigmoid_derivative(x):\r\n",
        "  return x * (1 - x)\r\n"
      ],
      "execution_count": null,
      "outputs": []
    },
    {
      "cell_type": "markdown",
      "metadata": {
        "id": "37OCjm4nOtbr"
      },
      "source": [
        "**Build of the MultiLayerNN class**"
      ]
    },
    {
      "cell_type": "code",
      "metadata": {
        "id": "uVNfbBvVO0sU"
      },
      "source": [
        "class MultiLayerNN:\r\n",
        "  #the constractor for the initialisation of our Nn\r\n",
        "  def __init__(self, inputNode, hidenNode,outputNode):\r\n",
        "    \r\n",
        "    self.inputNode=inputNode\r\n",
        "    self.hidenNode=hidenNode\r\n",
        "    self.outputNode=outputNode\r\n",
        "    self.input_hiden=np.random.rand(hidenNode,inputNode)\r\n",
        "    self.hiden_output=np.random.rand(outputNode,hidenNode)\r\n",
        "    self.hiden_bias=np.random.rand(hidenNode,1)\r\n",
        "    self.output_bias=np.random.rand(outputNode,1)\r\n",
        " \r\n",
        "  #Etape 3 : Un fonction fit pour l'apprentissage\r\n",
        "  def fit(self,X,Y,learning_rate=0.01,nmbr_iter=2000):\r\n",
        "\r\n",
        "        self.learning_rate=learning_rate\r\n",
        "        for i in range(nmbr_iter):\r\n",
        "          index=randint(0,3)\r\n",
        "\r\n",
        "          #La prediction \r\n",
        "          hiden=np.dot(self.input_hiden,X[index])\r\n",
        "          hiden=hiden + self.hiden_bias\r\n",
        "          hiden=np.array(list(map(sigmoid,hiden)))\r\n",
        "\r\n",
        "          output=np.dot(self.hiden_output,hiden)\r\n",
        "          output=output + self.output_bias\r\n",
        "          output=np.array(list(map(sigmoid,output)))\r\n",
        "          \r\n",
        "          #La correction du hiden output -W\r\n",
        "          output_Error=np.subtract(Y[index],output)\r\n",
        "          gradian=np.array(list(map(sigmoid_derivative,output)))\r\n",
        "          gradian=np.multiply(gradian,output_Error)\r\n",
        "          gradian=np.dot(gradian,self.learning_rate)\r\n",
        "          delta=np.dot(gradian,hiden.T)\r\n",
        "          self.hiden_output=self.hiden_output+delta\r\n",
        "          self.output_bias= self.output_bias+gradian\r\n",
        "          hiden_Error=np.dot(self.hiden_output.T,output_Error)\r\n",
        "\r\n",
        "          #La correction du\r\n",
        "          hiden_gradian=np.array(list(map(sigmoid_derivative,hiden)))\r\n",
        "          hiden_gradian=np.multiply(gradian,hiden_Error)\r\n",
        "          hiden_gradian=np.dot(hiden_gradian,self.learning_rate)\r\n",
        "          hiden_delta=np.dot(hiden_gradian,hiden.T)\r\n",
        "          self.input_hiden=self.input_hiden+hiden_delta\r\n",
        "          self.hiden_bias=self.hiden_bias+hiden_gradian\r\n",
        "  \r\n",
        "  #feed : Etape 4 :la fonction predict\r\n",
        "  def predict(self,X):\r\n",
        "    hiden=np.dot(self.input_hiden,X)\r\n",
        "    hiden=hiden + self.hiden_bias\r\n",
        "    hiden=np.array(list(map(sigmoid,hiden)))\r\n",
        "\r\n",
        "    output=np.dot(self.hiden_output,hiden)\r\n",
        "    output=output + self.output_bias\r\n",
        "    output=np.array(list(map(sigmoid,output)))\r\n",
        "    return output\r\n",
        "   \r\n",
        "    \r\n",
        "  \r\n"
      ],
      "execution_count": null,
      "outputs": []
    },
    {
      "cell_type": "markdown",
      "metadata": {
        "id": "HqGGVuf_V8EW"
      },
      "source": [
        "**Test**"
      ]
    },
    {
      "cell_type": "code",
      "metadata": {
        "id": "kNqvUcobV7qZ"
      },
      "source": [
        "X=[[[0],[0]],[[1],[0]],[[0],[1]],[[1],[1]]]\r\n",
        "Y=[[0],[1],[1],[0]]\r\n",
        "nn=MultiLayerNN(2,2,1)\r\n",
        "nn.fit(X,Y,0.01,2000)"
      ],
      "execution_count": null,
      "outputs": []
    },
    {
      "cell_type": "markdown",
      "metadata": {
        "id": "iUgx6BSNWnTE"
      },
      "source": [
        "**Predection**"
      ]
    },
    {
      "cell_type": "code",
      "metadata": {
        "colab": {
          "base_uri": "https://localhost:8080/"
        },
        "id": "MLCzVZUXWpCp",
        "outputId": "fd978218-9168-4685-dbfa-0451cef6c67a"
      },
      "source": [
        "print(nn.predict(X[0]))\r\n",
        "print(nn.predict(X[1]))\r\n",
        "print(nn.predict(X[2]))\r\n",
        "print(nn.predict(X[3]))"
      ],
      "execution_count": null,
      "outputs": [
        {
          "output_type": "stream",
          "text": [
            "[[0.54655771 0.53679832]]\n",
            "[[0.54196162 0.5516975 ]]\n",
            "[[0.54459709 0.50736562]]\n",
            "[[0.53350387 0.51848772]]\n"
          ],
          "name": "stdout"
        }
      ]
    },
    {
      "cell_type": "markdown",
      "metadata": {
        "id": "ve0ejdJaW_jc"
      },
      "source": [
        "**Creation** **model**"
      ]
    },
    {
      "cell_type": "code",
      "metadata": {
        "id": "NW5r1Ck7XCkW"
      },
      "source": [
        "model = MultiLayerNN(2,2,1)"
      ],
      "execution_count": null,
      "outputs": []
    },
    {
      "cell_type": "markdown",
      "metadata": {
        "id": "0Kt86khQasOO"
      },
      "source": [
        "**train** **model**"
      ]
    },
    {
      "cell_type": "code",
      "metadata": {
        "id": "eMSmsvLtXK4J"
      },
      "source": [
        "model.fit(X, Y,0.001,1000)\r\n"
      ],
      "execution_count": null,
      "outputs": []
    },
    {
      "cell_type": "markdown",
      "metadata": {
        "id": "dd115CCaXU9s"
      },
      "source": [
        "**Visualize** **data** Here I got problem\r\n",
        "\r\n",
        "\r\n",
        "\r\n",
        "\r\n"
      ]
    }
  ]
}